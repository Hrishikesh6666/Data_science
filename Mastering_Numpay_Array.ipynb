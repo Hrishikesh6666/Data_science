{
  "nbformat": 4,
  "nbformat_minor": 0,
  "metadata": {
    "colab": {
      "provenance": [],
      "authorship_tag": "ABX9TyOfei/ThL4kE5J1FpJUbGMD",
      "include_colab_link": true
    },
    "kernelspec": {
      "name": "python3",
      "display_name": "Python 3"
    },
    "language_info": {
      "name": "python"
    }
  },
  "cells": [
    {
      "cell_type": "markdown",
      "metadata": {
        "id": "view-in-github",
        "colab_type": "text"
      },
      "source": [
        "<a href=\"https://colab.research.google.com/github/Hrishikesh6666/Data_science/blob/main/Mastering_Numpay_Array.ipynb\" target=\"_parent\"><img src=\"https://colab.research.google.com/assets/colab-badge.svg\" alt=\"Open In Colab\"/></a>"
      ]
    },
    {
      "cell_type": "markdown",
      "source": [
        "# IMPORT NUMPAY"
      ],
      "metadata": {
        "id": "jqGCLiIHeQ8W"
      }
    },
    {
      "cell_type": "code",
      "source": [
        "import numpy"
      ],
      "metadata": {
        "id": "UgYTOLtzfGqQ"
      },
      "execution_count": null,
      "outputs": []
    },
    {
      "cell_type": "code",
      "execution_count": null,
      "metadata": {
        "colab": {
          "base_uri": "https://localhost:8080/"
        },
        "id": "__xHYqaJeCBe",
        "outputId": "18e3c3fa-9b80-4203-8876-93c997cba4ab"
      },
      "outputs": [
        {
          "output_type": "execute_result",
          "data": {
            "text/plain": [
              "0.6790530443409546"
            ]
          },
          "metadata": {},
          "execution_count": 5
        }
      ],
      "source": [
        "# NOTE = Random numbers are from zero to one\n",
        "numpy.random.random()\n"
      ]
    },
    {
      "cell_type": "markdown",
      "source": [
        "# Heads and Tails program"
      ],
      "metadata": {
        "id": "t6CTKLSvftN_"
      }
    },
    {
      "cell_type": "code",
      "source": [
        "import numpy\n",
        "\n",
        "if numpy.random.random() < 0.5:\n",
        "\n",
        "    print(\"Heads\")               # Indent this line as well\n",
        "else:\n",
        "    print(\"Tails\")"
      ],
      "metadata": {
        "colab": {
          "base_uri": "https://localhost:8080/"
        },
        "id": "VVgH9w31f-fZ",
        "outputId": "f5510975-c6a4-4668-826a-08b4dbc821b3"
      },
      "execution_count": null,
      "outputs": [
        {
          "output_type": "stream",
          "name": "stdout",
          "text": [
            "Heads\n"
          ]
        }
      ]
    },
    {
      "cell_type": "markdown",
      "source": [
        "# TO CREATE A MATRIX OF RANDOM NUMBERS"
      ],
      "metadata": {
        "id": "ePPHG0u0gk2E"
      }
    },
    {
      "cell_type": "code",
      "source": [
        "numpy.random.random((4,4))\n",
        "#we can also use (2,2),(4,4)"
      ],
      "metadata": {
        "colab": {
          "base_uri": "https://localhost:8080/"
        },
        "id": "0x858lh4gzjV",
        "outputId": "c782fdc7-2957-497a-c0b2-6866605dfb25"
      },
      "execution_count": null,
      "outputs": [
        {
          "output_type": "execute_result",
          "data": {
            "text/plain": [
              "array([[0.61794535, 0.3405384 , 0.84166902, 0.38855211],\n",
              "       [0.10740173, 0.76442429, 0.88521966, 0.63475858],\n",
              "       [0.90392633, 0.59120655, 0.07323219, 0.26043992],\n",
              "       [0.84656715, 0.11517876, 0.37280199, 0.34143683]])"
            ]
          },
          "metadata": {},
          "execution_count": 16
        }
      ]
    },
    {
      "cell_type": "code",
      "source": [
        "# Generate the number based on the range her we can define what should be the\n",
        "# (START, END, and what should be the DISTANCE)\n",
        "\n",
        "numpy.arange(1,20,2)"
      ],
      "metadata": {
        "colab": {
          "base_uri": "https://localhost:8080/"
        },
        "id": "cZWWS6NShPw0",
        "outputId": "f8156406-00d8-486e-8e7d-421df4b1fc68"
      },
      "execution_count": null,
      "outputs": [
        {
          "output_type": "execute_result",
          "data": {
            "text/plain": [
              "array([ 1,  3,  5,  7,  9, 11, 13, 15, 17, 19])"
            ]
          },
          "metadata": {},
          "execution_count": 18
        }
      ]
    },
    {
      "cell_type": "code",
      "source": [
        "# Use of (LINSPACE) to make it a line space which are equally distance\n",
        "numpy.linspace(1,20,11).astype(float)"
      ],
      "metadata": {
        "colab": {
          "base_uri": "https://localhost:8080/"
        },
        "id": "IbwpMTnQi9wp",
        "outputId": "9625b121-ca23-4725-a4d4-b6986488a6d5"
      },
      "execution_count": null,
      "outputs": [
        {
          "output_type": "execute_result",
          "data": {
            "text/plain": [
              "array([ 1. ,  2.9,  4.8,  6.7,  8.6, 10.5, 12.4, 14.3, 16.2, 18.1, 20. ])"
            ]
          },
          "metadata": {},
          "execution_count": 24
        }
      ]
    },
    {
      "cell_type": "markdown",
      "source": [
        "# USE OF ARRAY IN NUMPAY0"
      ],
      "metadata": {
        "id": "wgMHNh9Cmbly"
      }
    },
    {
      "cell_type": "code",
      "source": [
        "import numpy as np"
      ],
      "metadata": {
        "id": "R8Cp4-UUjoDn"
      },
      "execution_count": null,
      "outputs": []
    },
    {
      "cell_type": "code",
      "source": [
        "# the given matrix is stored as array\n",
        "arr = np.random.random((4,4))\n",
        "print(arr)"
      ],
      "metadata": {
        "colab": {
          "base_uri": "https://localhost:8080/"
        },
        "id": "vAGRfPdymwcZ",
        "outputId": "a69dba83-a387-4c25-88ec-318f4e321be2"
      },
      "execution_count": null,
      "outputs": [
        {
          "output_type": "stream",
          "name": "stdout",
          "text": [
            "[[0.06989118 0.40584681 0.34800751 0.08629674]\n",
            " [0.17976761 0.19504795 0.48197837 0.43102086]\n",
            " [0.64909575 0.95499923 0.28014715 0.27183974]\n",
            " [0.11330536 0.78070363 0.61748994 0.49450867]]\n"
          ]
        }
      ]
    },
    {
      "cell_type": "code",
      "source": [
        "arr.shape"
      ],
      "metadata": {
        "id": "xIwwvt2Bm6QF",
        "colab": {
          "base_uri": "https://localhost:8080/"
        },
        "outputId": "aaf935b6-1991-4041-8601-ac48bf037a4e"
      },
      "execution_count": null,
      "outputs": [
        {
          "output_type": "execute_result",
          "data": {
            "text/plain": [
              "(4, 4)"
            ]
          },
          "metadata": {},
          "execution_count": 8
        }
      ]
    },
    {
      "cell_type": "code",
      "source": [
        "arr = arr.reshape(2,8)\n",
        "print(arr)"
      ],
      "metadata": {
        "colab": {
          "base_uri": "https://localhost:8080/"
        },
        "id": "IU5l3QgIBcSE",
        "outputId": "3d5d64e4-a397-4b84-e9c7-d56e5078528f"
      },
      "execution_count": null,
      "outputs": [
        {
          "output_type": "stream",
          "name": "stdout",
          "text": [
            "[[0.06989118 0.40584681 0.34800751 0.08629674 0.17976761 0.19504795\n",
            "  0.48197837 0.43102086]\n",
            " [0.64909575 0.95499923 0.28014715 0.27183974 0.11330536 0.78070363\n",
            "  0.61748994 0.49450867]]\n"
          ]
        }
      ]
    },
    {
      "cell_type": "markdown",
      "source": [
        "# **ARRAY FLATTE**N\n",
        "(flatten means we are having 2 or 3 or\n",
        "10 dimensional array that are flattern into 1(one) dimensional array*)"
      ],
      "metadata": {
        "id": "bYrxo1_eDCME"
      }
    },
    {
      "cell_type": "code",
      "source": [
        "arr = arr.flatten()\n",
        "arr.shape\n",
        "(2)\n",
        "print(arr)"
      ],
      "metadata": {
        "colab": {
          "base_uri": "https://localhost:8080/"
        },
        "id": "N9i5FGyEBue9",
        "outputId": "317057c1-3189-43df-8fe6-cfd8d206d086"
      },
      "execution_count": null,
      "outputs": [
        {
          "output_type": "stream",
          "name": "stdout",
          "text": [
            "[0.06989118 0.40584681 0.34800751 0.08629674 0.17976761 0.19504795\n",
            " 0.48197837 0.43102086 0.64909575 0.95499923 0.28014715 0.27183974\n",
            " 0.11330536 0.78070363 0.61748994 0.49450867]\n"
          ]
        }
      ]
    },
    {
      "cell_type": "markdown",
      "source": [
        "# 4) ARRAY TO LIST AND VIVE VERSE"
      ],
      "metadata": {
        "id": "BQG0FzgUDpqt"
      }
    },
    {
      "cell_type": "code",
      "source": [
        "first_tuple = (1, 2, 3, 4, 5)\n",
        "arr = np.array(first_tuple)\n",
        "print(arr)"
      ],
      "metadata": {
        "colab": {
          "base_uri": "https://localhost:8080/"
        },
        "id": "iqyhke5ODV7B",
        "outputId": "ff83ba89-b18b-4407-d3a2-37396aba11a7"
      },
      "execution_count": null,
      "outputs": [
        {
          "output_type": "stream",
          "name": "stdout",
          "text": [
            "[1 2 3 4 5]\n"
          ]
        }
      ]
    },
    {
      "cell_type": "code",
      "source": [
        "arr"
      ],
      "metadata": {
        "colab": {
          "base_uri": "https://localhost:8080/"
        },
        "id": "tZkGMK-UEHEu",
        "outputId": "a1cc5be6-17c3-48e6-f665-28dc8553fc16"
      },
      "execution_count": null,
      "outputs": [
        {
          "output_type": "execute_result",
          "data": {
            "text/plain": [
              "array([1, 2, 3, 4, 5])"
            ]
          },
          "metadata": {},
          "execution_count": 16
        }
      ]
    },
    {
      "cell_type": "code",
      "source": [
        "#from array to list\n",
        "first_tuple = list(arr)"
      ],
      "metadata": {
        "id": "MVSRMEu8EOlF"
      },
      "execution_count": null,
      "outputs": []
    },
    {
      "cell_type": "code",
      "source": [
        "arr"
      ],
      "metadata": {
        "colab": {
          "base_uri": "https://localhost:8080/"
        },
        "id": "V5mNKdvmEkiV",
        "outputId": "0a7c2278-ef01-46f9-c2ff-975253045f9d"
      },
      "execution_count": null,
      "outputs": [
        {
          "output_type": "execute_result",
          "data": {
            "text/plain": [
              "array([1, 2, 3, 4, 5])"
            ]
          },
          "metadata": {},
          "execution_count": 18
        }
      ]
    },
    {
      "cell_type": "code",
      "source": [
        "array = [(1,3,4,5,6,7)]"
      ],
      "metadata": {
        "id": "9KmN3lbOEmJF"
      },
      "execution_count": null,
      "outputs": []
    },
    {
      "cell_type": "code",
      "source": [
        "for i in array:\n",
        "  for num in i:\n",
        "    print (num + 5)"
      ],
      "metadata": {
        "colab": {
          "base_uri": "https://localhost:8080/"
        },
        "id": "VcbQ-c0LEx6D",
        "outputId": "bb8ce828-bb6f-48cf-8f9e-71242866eb4d"
      },
      "execution_count": null,
      "outputs": [
        {
          "output_type": "stream",
          "name": "stdout",
          "text": [
            "6\n",
            "8\n",
            "9\n",
            "10\n",
            "11\n",
            "12\n"
          ]
        }
      ]
    },
    {
      "cell_type": "markdown",
      "source": [
        "ARITHMATIC OPERATION:\n"
      ],
      "metadata": {
        "id": "8CCQ9EzqFc3M"
      }
    },
    {
      "cell_type": "code",
      "source": [
        "arr = (1,2,3,4,5,6,7,8,9,10)\n"
      ],
      "metadata": {
        "id": "ze7DB4BmE8lU"
      },
      "execution_count": null,
      "outputs": []
    },
    {
      "cell_type": "code",
      "source": [
        "for num in arr:\n",
        "    print(int(num + 1))\n",
        "    print(int(num - 1))\n",
        "    print(int(num * 2))\n",
        "    print(int(num / 2))\n",
        "    print(int(num** 2))"
      ],
      "metadata": {
        "colab": {
          "base_uri": "https://localhost:8080/"
        },
        "id": "uxbRXL5wFwVq",
        "outputId": "1b7ecf66-4143-46fa-ecd1-b6759d0b43b7"
      },
      "execution_count": null,
      "outputs": [
        {
          "output_type": "stream",
          "name": "stdout",
          "text": [
            "2\n",
            "0\n",
            "2\n",
            "0\n",
            "1\n",
            "3\n",
            "1\n",
            "4\n",
            "1\n",
            "4\n",
            "4\n",
            "2\n",
            "6\n",
            "1\n",
            "9\n",
            "5\n",
            "3\n",
            "8\n",
            "2\n",
            "16\n",
            "6\n",
            "4\n",
            "10\n",
            "2\n",
            "25\n",
            "7\n",
            "5\n",
            "12\n",
            "3\n",
            "36\n",
            "8\n",
            "6\n",
            "14\n",
            "3\n",
            "49\n",
            "9\n",
            "7\n",
            "16\n",
            "4\n",
            "64\n",
            "10\n",
            "8\n",
            "18\n",
            "4\n",
            "81\n",
            "11\n",
            "9\n",
            "20\n",
            "5\n",
            "100\n"
          ]
        }
      ]
    },
    {
      "cell_type": "code",
      "source": [
        "arr"
      ],
      "metadata": {
        "colab": {
          "base_uri": "https://localhost:8080/"
        },
        "id": "u3Xy6hdUFyXw",
        "outputId": "2beda8e7-657e-43ff-b522-7f65de7f9124"
      },
      "execution_count": null,
      "outputs": [
        {
          "output_type": "execute_result",
          "data": {
            "text/plain": [
              "(1, 2, 3, 4, 5, 6, 7, 8, 9, 10)"
            ]
          },
          "metadata": {},
          "execution_count": 34
        }
      ]
    },
    {
      "cell_type": "code",
      "source": [
        "\n",
        "arr_np = np.array(arr)\n",
        "print(arr_np.min())\n",
        "print(arr_np.max())\n",
        "print(arr_np.sum())\n",
        "print(arr_np.mean())\n",
        "''' It appears you are trying to use the .median() method on a NumPy array, but this method does not exist in NumPy.\n",
        " The median function is available in the numpy library, but it needs to be called as a function, not as a method on\n",
        " the array.'''\n",
        "\n",
        "print(np.median(arr_np))"
      ],
      "metadata": {
        "colab": {
          "base_uri": "https://localhost:8080/"
        },
        "id": "-ZfijHr4ISrL",
        "outputId": "d19b2585-44c9-4fbb-d474-f4616717c645"
      },
      "execution_count": null,
      "outputs": [
        {
          "output_type": "stream",
          "name": "stdout",
          "text": [
            "1\n",
            "10\n",
            "55\n",
            "5.5\n",
            "5.5\n"
          ]
        }
      ]
    },
    {
      "cell_type": "markdown",
      "source": [
        "# ARITHEMATIC OPERATION ON MULTIPLE ARRAY"
      ],
      "metadata": {
        "id": "wDW43GIWL_9-"
      }
    },
    {
      "cell_type": "code",
      "source": [
        "arr1=np.array(([1,2,3],[4,5,6]))\n",
        "arr2=np.array(([7,8,9],[10,11,12]))\n",
        "arr3=np.array(([13,14,15],[16,17,18]))"
      ],
      "metadata": {
        "id": "d1F3BghMIb1y"
      },
      "execution_count": null,
      "outputs": []
    },
    {
      "cell_type": "code",
      "source": [
        "arr1+arr2+arr3"
      ],
      "metadata": {
        "colab": {
          "base_uri": "https://localhost:8080/"
        },
        "id": "S19OF-B8MnjL",
        "outputId": "51098b73-1e5c-4510-c7f2-6a9cfc15d164"
      },
      "execution_count": null,
      "outputs": [
        {
          "output_type": "execute_result",
          "data": {
            "text/plain": [
              "([1, 2, 3], [4, 5, 6], [7, 8, 9], [10, 11, 12], [13, 14, 15], [16, 17, 18])"
            ]
          },
          "metadata": {},
          "execution_count": 56
        }
      ]
    },
    {
      "cell_type": "code",
      "source": [
        "arr1-arr2"
      ],
      "metadata": {
        "colab": {
          "base_uri": "https://localhost:8080/"
        },
        "id": "onywElemMsCf",
        "outputId": "3621a764-deb4-4aae-c103-b0e79a520651"
      },
      "execution_count": null,
      "outputs": [
        {
          "output_type": "execute_result",
          "data": {
            "text/plain": [
              "array([[-6, -6, -6],\n",
              "       [-6, -6, -6]])"
            ]
          },
          "metadata": {},
          "execution_count": 60
        }
      ]
    },
    {
      "cell_type": "code",
      "source": [
        "arr1*arr3"
      ],
      "metadata": {
        "colab": {
          "base_uri": "https://localhost:8080/"
        },
        "id": "wk27GEGmMw8f",
        "outputId": "e2f721f2-0048-4b48-bd9a-4ff93191ea0a"
      },
      "execution_count": null,
      "outputs": [
        {
          "output_type": "execute_result",
          "data": {
            "text/plain": [
              "array([[ 13,  28,  45],\n",
              "       [ 64,  85, 108]])"
            ]
          },
          "metadata": {},
          "execution_count": 61
        }
      ]
    },
    {
      "cell_type": "markdown",
      "source": [
        "# ARRAY SLICING"
      ],
      "metadata": {
        "id": "RpGj710jNr9Y"
      }
    },
    {
      "cell_type": "code",
      "source": [
        "arr1=np.array((1,2,3,4,5,6,7,8,9,10))"
      ],
      "metadata": {
        "id": "1mk5b5eZNoal"
      },
      "execution_count": null,
      "outputs": []
    },
    {
      "cell_type": "code",
      "source": [
        "arr1"
      ],
      "metadata": {
        "colab": {
          "base_uri": "https://localhost:8080/"
        },
        "id": "tN437WvVOKEU",
        "outputId": "bfb0d458-60d3-4a75-d44e-79a4dbdcb214"
      },
      "execution_count": null,
      "outputs": [
        {
          "output_type": "execute_result",
          "data": {
            "text/plain": [
              "array([ 1,  2,  3,  4,  5,  6,  7,  8,  9, 10])"
            ]
          },
          "metadata": {},
          "execution_count": 63
        }
      ]
    },
    {
      "cell_type": "code",
      "source": [
        "arr1[3]"
      ],
      "metadata": {
        "colab": {
          "base_uri": "https://localhost:8080/"
        },
        "id": "EwaFO27XOLt0",
        "outputId": "30751b7c-6e30-4dcb-98d6-e901373a8ef7"
      },
      "execution_count": null,
      "outputs": [
        {
          "output_type": "execute_result",
          "data": {
            "text/plain": [
              "4"
            ]
          },
          "metadata": {},
          "execution_count": 64
        }
      ]
    },
    {
      "cell_type": "code",
      "source": [
        "arr1[-4]"
      ],
      "metadata": {
        "colab": {
          "base_uri": "https://localhost:8080/"
        },
        "id": "UHdiZFtuOOTc",
        "outputId": "d6620d5d-8fcb-4982-8e5c-08fa93dfe65f"
      },
      "execution_count": null,
      "outputs": [
        {
          "output_type": "execute_result",
          "data": {
            "text/plain": [
              "7"
            ]
          },
          "metadata": {},
          "execution_count": 65
        }
      ]
    },
    {
      "cell_type": "code",
      "source": [
        "arr[1:-1]"
      ],
      "metadata": {
        "colab": {
          "base_uri": "https://localhost:8080/"
        },
        "id": "TuQLDXF-OToU",
        "outputId": "6e10bac0-09bb-4d2f-a895-d9aadea4718f"
      },
      "execution_count": null,
      "outputs": [
        {
          "output_type": "execute_result",
          "data": {
            "text/plain": [
              "(2, 3, 4, 5, 6, 7, 8, 9)"
            ]
          },
          "metadata": {},
          "execution_count": 66
        }
      ]
    },
    {
      "cell_type": "markdown",
      "source": [
        "# ARRAY SORTING"
      ],
      "metadata": {
        "id": "gqunaeJ6Oda8"
      }
    },
    {
      "cell_type": "code",
      "source": [
        "import numpy as np\n",
        "arr1 = np.array([4,7,6,3,2,9,10,3,2,1,8])\n"
      ],
      "metadata": {
        "id": "48JQKVhnOZsk"
      },
      "execution_count": 4,
      "outputs": []
    },
    {
      "cell_type": "code",
      "source": [
        "arr1.sort()\n",
        "print(arr1)"
      ],
      "metadata": {
        "colab": {
          "base_uri": "https://localhost:8080/"
        },
        "id": "tmOKM_k0O7Tq",
        "outputId": "59712dce-4ec8-4ea5-fb4e-5f7b6c34a4f9"
      },
      "execution_count": 5,
      "outputs": [
        {
          "output_type": "stream",
          "name": "stdout",
          "text": [
            "[ 1  2  2  3  3  4  6  7  8  9 10]\n"
          ]
        }
      ]
    },
    {
      "cell_type": "code",
      "source": [
        "arr1.sort(kind='mergesort') ## you can use merge ,Quick ,bubble ,selection sort also\n",
        "print(arr1)"
      ],
      "metadata": {
        "colab": {
          "base_uri": "https://localhost:8080/"
        },
        "id": "_glKUV8eLf3r",
        "outputId": "41d28526-cb4c-4e91-8d9d-860b2b82de0e"
      },
      "execution_count": 7,
      "outputs": [
        {
          "output_type": "stream",
          "name": "stdout",
          "text": [
            "[ 1  2  2  3  3  4  6  7  8  9 10]\n"
          ]
        }
      ]
    },
    {
      "cell_type": "code",
      "source": [
        "arr2=np.array([[9,3,7],[8,6,2]])"
      ],
      "metadata": {
        "id": "H9KCssl_O-Fq"
      },
      "execution_count": 8,
      "outputs": []
    },
    {
      "cell_type": "markdown",
      "source": [
        "*Sorting array by row and colums*"
      ],
      "metadata": {
        "id": "6-ctb9AxLw92"
      }
    },
    {
      "cell_type": "code",
      "source": [
        "np.sort(arr2,axis=0)"
      ],
      "metadata": {
        "colab": {
          "base_uri": "https://localhost:8080/"
        },
        "id": "-qZ0KPO_Lwpt",
        "outputId": "8a1eb8f0-0fda-4899-c9a0-c535a7af4c45"
      },
      "execution_count": 10,
      "outputs": [
        {
          "output_type": "execute_result",
          "data": {
            "text/plain": [
              "array([[8, 3, 2],\n",
              "       [9, 6, 7]])"
            ]
          },
          "metadata": {},
          "execution_count": 10
        }
      ]
    },
    {
      "cell_type": "code",
      "source": [
        "np.sort(arr2,axis=1)"
      ],
      "metadata": {
        "colab": {
          "base_uri": "https://localhost:8080/"
        },
        "id": "1rzQLSrYPdsK",
        "outputId": "f8d0da70-f769-4619-8aad-69984faea5c1"
      },
      "execution_count": 9,
      "outputs": [
        {
          "output_type": "execute_result",
          "data": {
            "text/plain": [
              "array([[3, 7, 9],\n",
              "       [2, 6, 8]])"
            ]
          },
          "metadata": {},
          "execution_count": 9
        }
      ]
    },
    {
      "cell_type": "markdown",
      "source": [
        "# ARRAY MERGING"
      ],
      "metadata": {
        "id": "zgUQTJXrM-YI"
      }
    },
    {
      "cell_type": "code",
      "source": [
        "arr3 = np.array([[1,2,3],[4,5,6]])\n",
        "arr4 = np.array([[4,5,6],[7,8,9]])"
      ],
      "metadata": {
        "id": "QtbEC0diLv1E"
      },
      "execution_count": 16,
      "outputs": []
    },
    {
      "cell_type": "markdown",
      "source": [
        "**Using vstack , hstack command:**"
      ],
      "metadata": {
        "id": "t0Pq-beLOFtw"
      }
    },
    {
      "cell_type": "code",
      "source": [
        "v = np.vstack((arr3,arr4))\n",
        "print(v)"
      ],
      "metadata": {
        "colab": {
          "base_uri": "https://localhost:8080/"
        },
        "id": "7bsU-1a0Nf4d",
        "outputId": "b257b31a-ba25-4604-af90-89992727186d"
      },
      "execution_count": 22,
      "outputs": [
        {
          "output_type": "stream",
          "name": "stdout",
          "text": [
            "[[1 2 3]\n",
            " [4 5 6]\n",
            " [4 5 6]\n",
            " [7 8 9]]\n"
          ]
        }
      ]
    },
    {
      "cell_type": "code",
      "source": [
        "h =np.hstack((arr3,arr4))\n",
        "print(h)"
      ],
      "metadata": {
        "colab": {
          "base_uri": "https://localhost:8080/"
        },
        "id": "UNwSykOiN3qI",
        "outputId": "12fb492c-8bb1-466e-ccdc-1d56244db520"
      },
      "execution_count": 23,
      "outputs": [
        {
          "output_type": "stream",
          "name": "stdout",
          "text": [
            "[[1 2 3 4 5 6]\n",
            " [4 5 6 7 8 9]]\n"
          ]
        }
      ]
    },
    {
      "cell_type": "markdown",
      "source": [
        "***Using concatenate command***"
      ],
      "metadata": {
        "id": "bXMFik-NOyFI"
      }
    },
    {
      "cell_type": "code",
      "source": [
        "np.concatenate((arr3,arr4),axis=1)"
      ],
      "metadata": {
        "colab": {
          "base_uri": "https://localhost:8080/"
        },
        "id": "T__ygtS0N7i6",
        "outputId": "6c85a417-b0b9-4e7d-b1be-c75a2fe8c47f"
      },
      "execution_count": 19,
      "outputs": [
        {
          "output_type": "execute_result",
          "data": {
            "text/plain": [
              "array([[1, 2, 3, 4, 5, 6],\n",
              "       [4, 5, 6, 7, 8, 9]])"
            ]
          },
          "metadata": {},
          "execution_count": 19
        }
      ]
    },
    {
      "cell_type": "code",
      "source": [
        "np.concatenate((arr3,arr4),axis=0)"
      ],
      "metadata": {
        "colab": {
          "base_uri": "https://localhost:8080/"
        },
        "id": "SzMOU3vEN_kL",
        "outputId": "70581d2f-bac2-486e-94f5-8d5d3fb20e3b"
      },
      "execution_count": 20,
      "outputs": [
        {
          "output_type": "execute_result",
          "data": {
            "text/plain": [
              "array([[1, 2, 3],\n",
              "       [4, 5, 6],\n",
              "       [4, 5, 6],\n",
              "       [7, 8, 9]])"
            ]
          },
          "metadata": {},
          "execution_count": 20
        }
      ]
    },
    {
      "cell_type": "markdown",
      "source": [
        "# Array Spliting"
      ],
      "metadata": {
        "id": "STbEj1W4Ok2C"
      }
    },
    {
      "cell_type": "code",
      "source": [
        "newarr = np.array_split(h,3)\n",
        "print(newarr)"
      ],
      "metadata": {
        "colab": {
          "base_uri": "https://localhost:8080/"
        },
        "id": "KMtsVNfVOEHc",
        "outputId": "8a34d860-44bc-4ad3-f0d6-2d231147e260"
      },
      "execution_count": 26,
      "outputs": [
        {
          "output_type": "stream",
          "name": "stdout",
          "text": [
            "[array([[1, 2, 3, 4, 5, 6]]), array([[4, 5, 6, 7, 8, 9]]), array([], shape=(0, 6), dtype=int64)]\n"
          ]
        }
      ]
    },
    {
      "cell_type": "code",
      "source": [],
      "metadata": {
        "id": "vnaohZlcPaFG"
      },
      "execution_count": null,
      "outputs": []
    },
    {
      "cell_type": "markdown",
      "source": [
        "# **Numpy Array Search (where)**"
      ],
      "metadata": {
        "id": "xi6zpO9QPryT"
      }
    },
    {
      "cell_type": "code",
      "source": [
        " x = np.array([1,23,22,45,6,4878,98,95,8,65,96,5,956,65,9,65,95,6])"
      ],
      "metadata": {
        "id": "Xq0nYH1oP2at"
      },
      "execution_count": 29,
      "outputs": []
    },
    {
      "cell_type": "code",
      "source": [
        "x_np = np.array(x)\n",
        "num = np.where(x_np % 2 == 0)\n",
        "print(num)"
      ],
      "metadata": {
        "colab": {
          "base_uri": "https://localhost:8080/"
        },
        "id": "RZCupHHLQLFn",
        "outputId": "1b0dcdb1-99ec-4319-f392-43ef3ec3be30"
      },
      "execution_count": 33,
      "outputs": [
        {
          "output_type": "stream",
          "name": "stdout",
          "text": [
            "(array([0, 0, 0, 0, 0, 0]), array([0, 1, 3, 4, 5, 6]))\n"
          ]
        }
      ]
    },
    {
      "cell_type": "code",
      "source": [],
      "metadata": {
        "id": "2sf_w3qlQiKT"
      },
      "execution_count": null,
      "outputs": []
    }
  ]
}