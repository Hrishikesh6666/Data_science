{
  "cells": [
    {
      "cell_type": "markdown",
      "metadata": {
        "id": "view-in-github",
        "colab_type": "text"
      },
      "source": [
        "<a href=\"https://colab.research.google.com/github/Hrishikesh6666/Data_science/blob/main/QNA.ipynb\" target=\"_parent\"><img src=\"https://colab.research.google.com/assets/colab-badge.svg\" alt=\"Open In Colab\"/></a>"
      ]
    },
    {
      "cell_type": "markdown",
      "metadata": {
        "id": "1--XrLrHfy8O"
      },
      "source": [
        "Write a function to take a percentage as input and return the corresponding grade."
      ]
    },
    {
      "cell_type": "code",
      "execution_count": null,
      "metadata": {
        "colab": {
          "base_uri": "https://localhost:8080/"
        },
        "id": "kqVxtSaWfqcX",
        "outputId": "75217a3a-e3ca-432d-d396-f8563fb953c9"
      },
      "outputs": [
        {
          "name": "stdout",
          "output_type": "stream",
          "text": [
            "Enter your percentage: 92\n",
            "A\n"
          ]
        }
      ],
      "source": [
        "def grade_calculator(percentage):\n",
        "    \"\"\"\n",
        "    :type percentage: int\n",
        "    :rtype: str\n",
        "    \"\"\"\n",
        "    if percentage >= 90:\n",
        "        return \"A\"\n",
        "    elif 80 <= percentage <= 89:\n",
        "        return \"B\"\n",
        "    elif 70 <= percentage <= 79:\n",
        "        return \"C\"\n",
        "    elif 60 <= percentage <= 69:\n",
        "        return \"D\"\n",
        "    else:\n",
        "        return \"F\"\n",
        "\n",
        "# User input\n",
        "percentage = int(input(\"Enter your percentage: \"))\n",
        "print(grade_calculator(percentage))"
      ]
    },
    {
      "cell_type": "markdown",
      "metadata": {
        "id": "CCbJvAe_gNV4"
      },
      "source": [
        "Write a function to take an integer as input and return whether it is even or odd."
      ]
    },
    {
      "cell_type": "code",
      "execution_count": null,
      "metadata": {
        "colab": {
          "base_uri": "https://localhost:8080/"
        },
        "id": "8S-9vHrmgOas",
        "outputId": "b3ebc72a-e6d2-495e-af7f-9e8db95f8a3d"
      },
      "outputs": [
        {
          "name": "stdout",
          "output_type": "stream",
          "text": [
            "Enter an integer: 6\n",
            "Even\n"
          ]
        }
      ],
      "source": [
        "def check_even_or_odd(num):\n",
        "    \"\"\"\n",
        "    :type num: int\n",
        "    :rtype: str\n",
        "    \"\"\"\n",
        "    if num % 2 == 0:\n",
        "        return \"Even\"\n",
        "    else:\n",
        "        return \"Odd\"\n",
        "\n",
        "# Test the function\n",
        "num = int(input(\"Enter an integer: \"))\n",
        "result = check_even_or_odd(num)\n",
        "print(result)\n"
      ]
    },
    {
      "cell_type": "markdown",
      "metadata": {
        "id": "-ChCT4wlgewY"
      },
      "source": [
        "Write a function to take an integer as input and return its cube\n"
      ]
    },
    {
      "cell_type": "code",
      "execution_count": null,
      "metadata": {
        "colab": {
          "base_uri": "https://localhost:8080/"
        },
        "id": "2tgf4JTggh0T",
        "outputId": "9dfd2b30-8745-4b29-ac44-9542a5218b2c"
      },
      "outputs": [
        {
          "name": "stdout",
          "output_type": "stream",
          "text": [
            "Enter an integer: 4\n",
            "The cube of 4 is = 64\n"
          ]
        }
      ],
      "source": [
        "def integer_cube(num):\n",
        "    \"\"\"\n",
        "    :type num: int\n",
        "    :rtype: int\n",
        "    \"\"\"\n",
        "    return num ** 3  # Calculate and return the cube of the input number\n",
        "\n",
        "# Test the function\n",
        "num = int(input(\"Enter an integer: \"))\n",
        "result = integer_cube(num)\n",
        "print(f\"The cube of {num} is = {result}\")\n"
      ]
    },
    {
      "cell_type": "markdown",
      "metadata": {
        "id": "xm3jEFBNhBxq"
      },
      "source": [
        "Write a function to take the current time in 24-hour format as input and return a greeting message based on the time of day."
      ]
    },
    {
      "cell_type": "code",
      "execution_count": null,
      "metadata": {
        "colab": {
          "base_uri": "https://localhost:8080/"
        },
        "id": "cE0pJhrYhBby",
        "outputId": "3e02fde2-5438-4cfc-dab9-6a4c9ba16bb6"
      },
      "outputs": [
        {
          "name": "stdout",
          "output_type": "stream",
          "text": [
            "Good Morning!\n"
          ]
        }
      ],
      "source": [
        "def get_greeting(hour: int, minute: int) -> str:\n",
        "    if 0 <= hour < 12:\n",
        "        return \"Good Morning!\"\n",
        "    elif 12 <= hour < 18:\n",
        "        return \"Good Afternoon!\"\n",
        "    elif 18 <= hour < 24:\n",
        "        return \"Good Evening!\"\n",
        "    else:\n",
        "        return \"Invalid time!\"\n",
        "\n",
        "# Example usage:\n",
        "current_time = \"08:30\"\n",
        "hour, minute = map(int, current_time.split(\":\"))\n",
        "print(get_greeting(hour, minute))\n"
      ]
    },
    {
      "cell_type": "markdown",
      "metadata": {
        "id": "6qn8EQaMmd3B"
      },
      "source": [
        "#Write a function to take a password as input and check if it meets the following criteria: At least 8 characters long. Contains at least one uppercase letter. Contains at least one lowercase letter. Contains at least one digit. Contains at least one special character (one of: ! @ # $ % ^ & *)."
      ]
    },
    {
      "cell_type": "code",
      "execution_count": null,
      "metadata": {
        "colab": {
          "base_uri": "https://localhost:8080/"
        },
        "id": "_rdP3am9mpOv",
        "outputId": "957bd813-ac2a-418b-ce34-0b4f62c56eb3"
      },
      "outputs": [
        {
          "name": "stdout",
          "output_type": "stream",
          "text": [
            "Enter a password: Kiran@7480\n",
            "Password is strong.\n"
          ]
        }
      ],
      "source": [
        "import re\n",
        "\n",
        "def check_password_strength(password):\n",
        "    \"\"\"\n",
        "    :type password: str\n",
        "    :rtype: str\n",
        "    \"\"\"\n",
        "    # Check length\n",
        "    if len(password) < 8:\n",
        "        return \"Password must be at least 8 characters long.\"\n",
        "\n",
        "    # Check for at least one uppercase letter\n",
        "    if not re.search(r'[A-Z]', password):\n",
        "        return \"Password must contain at least one uppercase letter.\"\n",
        "\n",
        "    # Check for at least one lowercase letter\n",
        "    if not re.search(r'[a-z]', password):\n",
        "        return \"Password must contain at least one lowercase letter.\"\n",
        "\n",
        "    # Check for at least one digit\n",
        "    if not re.search(r'\\d', password):\n",
        "        return \"Password must contain at least one digit.\"\n",
        "\n",
        "    # Check for at least one special character\n",
        "    if not re.search(r'[!@#$%^&*]', password):\n",
        "        return \"Password must contain at least one special character (! @ # $ % ^ & *).\"\n",
        "\n",
        "    # If all checks pass\n",
        "    return \"Password is strong.\"\n",
        "\n",
        "# Test the function\n",
        "password = input(\"Enter a password: \")\n",
        "result = check_password_strength(password)\n",
        "print(result)\n"
      ]
    },
    {
      "cell_type": "code",
      "execution_count": null,
      "metadata": {
        "id": "AJq8RpArmvCM"
      },
      "outputs": [],
      "source": []
    },
    {
      "cell_type": "markdown",
      "source": [
        "Neha wants to perform all the arithmetic operations on two numbers at once. Help her by writing a python program that returns the result of all the operations ( Addition, Subtraction, Multiplication, Division, and Modulus) on the two numbers."
      ],
      "metadata": {
        "id": "nFHO0BsYJ_m6"
      }
    },
    {
      "cell_type": "code",
      "source": [
        "def arithmetic_operations(a, b):\n",
        "    \"\"\"\n",
        "    :type a: int\n",
        "    :type b: int\n",
        "    :rtype: List[int or float]\n",
        "    \"\"\"\n",
        "    results = []\n",
        "    results.append(a + b)  # Addition\n",
        "    results.append(a - b)  # Subtraction\n",
        "    results.append(a * b)  # Multiplication\n",
        "    if b != 0:\n",
        "        results.append(a / b)  # Division\n",
        "        results.append(a % b)  # Modulus\n",
        "    else:\n",
        "        results.append('Division by zero')  # Handle division by zero\n",
        "        results.append('Modulus by zero')   # Handle modulus by zero\n",
        "\n",
        "    return results\n",
        "\n",
        "# Test the function\n",
        "a = int(input(\"Enter first number: \"))\n",
        "b = int(input(\"Enter second number: \"))\n",
        "result = arithmetic_operations(a, b)\n",
        "print(result)\n"
      ],
      "metadata": {
        "id": "P4i2vcaAJ-fZ"
      },
      "execution_count": null,
      "outputs": []
    }
  ],
  "metadata": {
    "colab": {
      "provenance": [],
      "authorship_tag": "ABX9TyPLZHvekJ9Pweh8e+WECq5R",
      "include_colab_link": true
    },
    "kernelspec": {
      "display_name": "Python 3",
      "name": "python3"
    },
    "language_info": {
      "name": "python"
    }
  },
  "nbformat": 4,
  "nbformat_minor": 0
}