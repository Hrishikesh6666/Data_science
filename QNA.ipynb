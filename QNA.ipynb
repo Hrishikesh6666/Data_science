{
  "nbformat": 4,
  "nbformat_minor": 0,
  "metadata": {
    "colab": {
      "provenance": [],
      "authorship_tag": "ABX9TyOeSwHN30z7jDPA0mMnnKcE",
      "include_colab_link": true
    },
    "kernelspec": {
      "name": "python3",
      "display_name": "Python 3"
    },
    "language_info": {
      "name": "python"
    }
  },
  "cells": [
    {
      "cell_type": "markdown",
      "metadata": {
        "id": "view-in-github",
        "colab_type": "text"
      },
      "source": [
        "<a href=\"https://colab.research.google.com/github/Hrishikesh6666/Data_science/blob/main/QNA.ipynb\" target=\"_parent\"><img src=\"https://colab.research.google.com/assets/colab-badge.svg\" alt=\"Open In Colab\"/></a>"
      ]
    },
    {
      "cell_type": "markdown",
      "source": [
        "Write a function to take a percentage as input and return the corresponding grade."
      ],
      "metadata": {
        "id": "1--XrLrHfy8O"
      }
    },
    {
      "cell_type": "code",
      "execution_count": 1,
      "metadata": {
        "colab": {
          "base_uri": "https://localhost:8080/"
        },
        "id": "kqVxtSaWfqcX",
        "outputId": "75217a3a-e3ca-432d-d396-f8563fb953c9"
      },
      "outputs": [
        {
          "output_type": "stream",
          "name": "stdout",
          "text": [
            "Enter your percentage: 92\n",
            "A\n"
          ]
        }
      ],
      "source": [
        "def grade_calculator(percentage):\n",
        "    \"\"\"\n",
        "    :type percentage: int\n",
        "    :rtype: str\n",
        "    \"\"\"\n",
        "    if percentage >= 90:\n",
        "        return \"A\"\n",
        "    elif 80 <= percentage <= 89:\n",
        "        return \"B\"\n",
        "    elif 70 <= percentage <= 79:\n",
        "        return \"C\"\n",
        "    elif 60 <= percentage <= 69:\n",
        "        return \"D\"\n",
        "    else:\n",
        "        return \"F\"\n",
        "\n",
        "# User input\n",
        "percentage = int(input(\"Enter your percentage: \"))\n",
        "print(grade_calculator(percentage))"
      ]
    },
    {
      "cell_type": "markdown",
      "source": [
        "Write a function to take an integer as input and return whether it is even or odd."
      ],
      "metadata": {
        "id": "CCbJvAe_gNV4"
      }
    },
    {
      "cell_type": "code",
      "source": [
        "def check_even_or_odd(num):\n",
        "    \"\"\"\n",
        "    :type num: int\n",
        "    :rtype: str\n",
        "    \"\"\"\n",
        "    if num % 2 == 0:\n",
        "        return \"Even\"\n",
        "    else:\n",
        "        return \"Odd\"\n",
        "\n",
        "# Test the function\n",
        "num = int(input(\"Enter an integer: \"))\n",
        "result = check_even_or_odd(num)\n",
        "print(result)\n"
      ],
      "metadata": {
        "colab": {
          "base_uri": "https://localhost:8080/"
        },
        "id": "8S-9vHrmgOas",
        "outputId": "b3ebc72a-e6d2-495e-af7f-9e8db95f8a3d"
      },
      "execution_count": 2,
      "outputs": [
        {
          "output_type": "stream",
          "name": "stdout",
          "text": [
            "Enter an integer: 6\n",
            "Even\n"
          ]
        }
      ]
    },
    {
      "cell_type": "markdown",
      "source": [
        "Write a function to take an integer as input and return its cube\n"
      ],
      "metadata": {
        "id": "-ChCT4wlgewY"
      }
    },
    {
      "cell_type": "code",
      "source": [
        "def integer_cube(num):\n",
        "    \"\"\"\n",
        "    :type num: int\n",
        "    :rtype: int\n",
        "    \"\"\"\n",
        "    return num ** 3  # Calculate and return the cube of the input number\n",
        "\n",
        "# Test the function\n",
        "num = int(input(\"Enter an integer: \"))\n",
        "result = integer_cube(num)\n",
        "print(f\"The cube of {num} is = {result}\")\n"
      ],
      "metadata": {
        "colab": {
          "base_uri": "https://localhost:8080/"
        },
        "id": "2tgf4JTggh0T",
        "outputId": "9dfd2b30-8745-4b29-ac44-9542a5218b2c"
      },
      "execution_count": 4,
      "outputs": [
        {
          "output_type": "stream",
          "name": "stdout",
          "text": [
            "Enter an integer: 4\n",
            "The cube of 4 is = 64\n"
          ]
        }
      ]
    },
    {
      "cell_type": "markdown",
      "source": [
        "Write a function to take the current time in 24-hour format as input and return a greeting message based on the time of day."
      ],
      "metadata": {
        "id": "xm3jEFBNhBxq"
      }
    },
    {
      "cell_type": "code",
      "source": [
        "def get_greeting(hour: int, minute: int) -> str:\n",
        "    if 0 <= hour < 12:\n",
        "        return \"Good Morning!\"\n",
        "    elif 12 <= hour < 18:\n",
        "        return \"Good Afternoon!\"\n",
        "    elif 18 <= hour < 24:\n",
        "        return \"Good Evening!\"\n",
        "    else:\n",
        "        return \"Invalid time!\"\n",
        "\n",
        "# Example usage:\n",
        "current_time = \"08:30\"\n",
        "hour, minute = map(int, current_time.split(\":\"))\n",
        "print(get_greeting(hour, minute))\n"
      ],
      "metadata": {
        "colab": {
          "base_uri": "https://localhost:8080/"
        },
        "id": "cE0pJhrYhBby",
        "outputId": "3e02fde2-5438-4cfc-dab9-6a4c9ba16bb6"
      },
      "execution_count": 6,
      "outputs": [
        {
          "output_type": "stream",
          "name": "stdout",
          "text": [
            "Good Morning!\n"
          ]
        }
      ]
    }
  ]
}